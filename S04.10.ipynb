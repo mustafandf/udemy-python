{
  "cells": [
    {
      "cell_type": "code",
      "execution_count": null,
      "id": "2b9b0ed3",
      "metadata": {
        "id": "2b9b0ed3",
        "outputId": "85c225d7-84e5-41b6-f104-b226a22cc22b"
      },
      "outputs": [
        {
          "data": {
            "text/plain": [
              "8"
            ]
          },
          "execution_count": 1,
          "metadata": {},
          "output_type": "execute_result"
        }
      ],
      "source": [
        "4 + 4"
      ]
    },
    {
      "cell_type": "code",
      "execution_count": null,
      "id": "a3e3c4e3",
      "metadata": {
        "id": "a3e3c4e3",
        "outputId": "2dfc3548-5b6e-42e7-ea2e-e7ed636b7894"
      },
      "outputs": [
        {
          "data": {
            "text/plain": [
              "1"
            ]
          },
          "execution_count": 4,
          "metadata": {},
          "output_type": "execute_result"
        }
      ],
      "source": [
        "10 % 3"
      ]
    },
    {
      "cell_type": "code",
      "execution_count": null,
      "id": "03bc92a2",
      "metadata": {
        "id": "03bc92a2",
        "outputId": "1e11fbe9-fca8-4be5-a487-59a1e3499dbc"
      },
      "outputs": [
        {
          "data": {
            "text/plain": [
              "5"
            ]
          },
          "execution_count": 5,
          "metadata": {},
          "output_type": "execute_result"
        }
      ],
      "source": [
        "10 - 5"
      ]
    },
    {
      "cell_type": "code",
      "execution_count": 2,
      "id": "645f6be2",
      "metadata": {
        "id": "645f6be2",
        "outputId": "4a25bfb5-7bd7-4be3-cd81-fc1d27e615ac",
        "colab": {
          "base_uri": "https://localhost:8080/"
        }
      },
      "outputs": [
        {
          "output_type": "execute_result",
          "data": {
            "text/plain": [
              "str"
            ]
          },
          "metadata": {},
          "execution_count": 2
        }
      ],
      "source": [
        "str"
      ]
    },
    {
      "cell_type": "code",
      "source": [
        "4 ** 245"
      ],
      "metadata": {
        "id": "PYDRdY1ynse4",
        "outputId": "c0a723c2-7eb2-4f7f-fdda-99496057b7a3",
        "colab": {
          "base_uri": "https://localhost:8080/"
        }
      },
      "id": "PYDRdY1ynse4",
      "execution_count": 3,
      "outputs": [
        {
          "output_type": "execute_result",
          "data": {
            "text/plain": [
              "3196670515523576044934755563308202297086564498088930458479776726656380660551439995003193449537015778467662777468320381844938727095591204153641140224"
            ]
          },
          "metadata": {},
          "execution_count": 3
        }
      ]
    }
  ],
  "metadata": {
    "kernelspec": {
      "display_name": "venv",
      "language": "python",
      "name": "python3"
    },
    "language_info": {
      "codemirror_mode": {
        "name": "ipython",
        "version": 3
      },
      "file_extension": ".py",
      "mimetype": "text/x-python",
      "name": "python",
      "nbconvert_exporter": "python",
      "pygments_lexer": "ipython3",
      "version": "3.9.13"
    },
    "colab": {
      "provenance": []
    }
  },
  "nbformat": 4,
  "nbformat_minor": 5
}